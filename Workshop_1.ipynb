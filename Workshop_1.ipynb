{
  "nbformat": 4,
  "nbformat_minor": 0,
  "metadata": {
    "colab": {
      "provenance": []
    },
    "kernelspec": {
      "name": "python3",
      "display_name": "Python 3"
    },
    "language_info": {
      "name": "python"
    }
  },
  "cells": [
    {
      "cell_type": "markdown",
      "source": [
        "# Exercise"
      ],
      "metadata": {
        "collapsed": false,
        "id": "3c3d7aa1e985b505"
      }
    },
    {
      "cell_type": "markdown",
      "source": [
        "## Exercise on Loops:\n",
        "1. Display Fibonacci series up to 10 terms."
      ],
      "metadata": {
        "collapsed": false,
        "id": "2be4c9e1ae24d0ca"
      }
    },
    {
      "cell_type": "code",
      "execution_count": 1,
      "metadata": {
        "collapsed": true,
        "ExecuteTime": {
          "end_time": "2024-03-01T00:42:49.824560Z",
          "start_time": "2024-03-01T00:42:49.818450Z"
        },
        "id": "initial_id",
        "outputId": "bae59015-0070-4506-d71d-39ec03f8929f",
        "colab": {
          "base_uri": "https://localhost:8080/"
        }
      },
      "outputs": [
        {
          "output_type": "stream",
          "name": "stdout",
          "text": [
            "0\n",
            "1\n",
            "1\n",
            "2\n",
            "3\n",
            "5\n",
            "8\n",
            "13\n",
            "21\n",
            "34\n"
          ]
        }
      ],
      "source": [
        "def fibonacci(num):\n",
        "    if num == 0:\n",
        "        return 0\n",
        "    elif num == 1:\n",
        "        return 1\n",
        "    else:\n",
        "        return fibonacci(num - 1) + fibonacci(num - 2)\n",
        "\n",
        "for i in range(0, 10):\n",
        "    print(fibonacci(i))"
      ]
    },
    {
      "cell_type": "markdown",
      "source": [
        "2. Find the factorial of a given number. Ask the user to provide the number."
      ],
      "metadata": {
        "collapsed": false,
        "id": "e5e6d78ab59b49e5"
      }
    },
    {
      "cell_type": "code",
      "outputs": [
        {
          "output_type": "stream",
          "name": "stdout",
          "text": [
            "Enter the number you want factorial of: 6\n",
            "720\n"
          ]
        }
      ],
      "source": [
        "def factorial(num):\n",
        "    fact = 1\n",
        "    for i in range(1, num+1):\n",
        "        fact = fact*i\n",
        "    return fact\n",
        "\n",
        "userInput = int(input(\"Enter the number you want factorial of: \"))\n",
        "print(factorial(userInput))"
      ],
      "metadata": {
        "ExecuteTime": {
          "end_time": "2024-03-01T00:45:10.166360Z",
          "start_time": "2024-03-01T00:45:08.917901Z"
        },
        "id": "a3fde63365feb739",
        "outputId": "40e49d6a-0218-46e4-f95f-530348397298",
        "colab": {
          "base_uri": "https://localhost:8080/"
        }
      },
      "execution_count": 2
    },
    {
      "cell_type": "markdown",
      "source": [
        "3. Write a program to print a right angle triangle using the for loop."
      ],
      "metadata": {
        "collapsed": false,
        "id": "98fca0ed284829a8"
      }
    },
    {
      "cell_type": "code",
      "outputs": [
        {
          "output_type": "stream",
          "name": "stdout",
          "text": [
            "\n",
            "*\n",
            "**\n",
            "***\n",
            "****\n",
            "*****\n",
            "******\n",
            "*******\n",
            "********\n",
            "*********\n"
          ]
        }
      ],
      "source": [
        "def rightAngleTriangle(num):\n",
        "    for i in range(0, num):\n",
        "        print('*' * i)\n",
        "\n",
        "\n",
        "rightAngleTriangle(10)"
      ],
      "metadata": {
        "ExecuteTime": {
          "end_time": "2024-03-01T00:47:17.326138Z",
          "start_time": "2024-03-01T00:47:17.320144Z"
        },
        "id": "8d5da0fc36753f22",
        "outputId": "68761bab-8a05-4c29-ae07-316f4b406fea",
        "colab": {
          "base_uri": "https://localhost:8080/"
        }
      },
      "execution_count": 3
    },
    {
      "cell_type": "markdown",
      "source": [
        "## Exercise on Functions\n",
        "Make a simple calculator that can add, subtract, multiply and divide two numbers using function."
      ],
      "metadata": {
        "collapsed": false,
        "id": "4bc0058b80651958"
      }
    },
    {
      "cell_type": "code",
      "outputs": [
        {
          "output_type": "stream",
          "name": "stdout",
          "text": [
            "12\n",
            "8\n",
            "20\n",
            "5.0\n"
          ]
        }
      ],
      "source": [
        "def calculator(num1, num2):\n",
        "    print(num1 + num2)\n",
        "    print(num1 - num2)\n",
        "    print(num1 * num2)\n",
        "    print(num1 / num2)\n",
        "\n",
        "calculator(10, 2)"
      ],
      "metadata": {
        "ExecuteTime": {
          "end_time": "2024-03-01T00:48:58.612427Z",
          "start_time": "2024-03-01T00:48:58.606696Z"
        },
        "id": "bb2afc2fb6e535de",
        "outputId": "edfa778d-8b81-482e-c0b7-2869bc1e4dc5",
        "colab": {
          "base_uri": "https://localhost:8080/"
        }
      },
      "execution_count": 4
    },
    {
      "cell_type": "markdown",
      "source": [
        "## Exercise on List and Dictionaries\n",
        "\n",
        "1. Remove the first duplicate element of a list"
      ],
      "metadata": {
        "collapsed": false,
        "id": "421afc27d9656fff"
      }
    },
    {
      "cell_type": "code",
      "outputs": [
        {
          "output_type": "stream",
          "name": "stdout",
          "text": [
            "[2, 3, 4, 5, 7, 8, 9]\n"
          ]
        }
      ],
      "source": [
        "duplicated_list = [5, 2, 7, 3, 2, 5, 8, 9, 4, 7, 3]\n",
        "\n",
        "def remove_duplicates(original_list):\n",
        "    seen = set()\n",
        "    result = []\n",
        "    for item in original_list:\n",
        "        if item not in seen:\n",
        "            seen.add(item)\n",
        "            result.append(item)\n",
        "    return sorted(result)\n",
        "\n",
        "print(remove_duplicates(duplicated_list))"
      ],
      "metadata": {
        "ExecuteTime": {
          "end_time": "2024-03-01T00:54:21.587225Z",
          "start_time": "2024-03-01T00:54:21.580595Z"
        },
        "id": "58706be3fc6d41a",
        "outputId": "ac87dfa4-8df5-4395-8249-21000fad5b73",
        "colab": {
          "base_uri": "https://localhost:8080/"
        }
      },
      "execution_count": 5
    },
    {
      "cell_type": "markdown",
      "source": [
        "2. Write a Python program to create a new dictionary by extracting the mentioned keys from the below dictionary.\n",
        "sample_dict = { \"name\": \"Anderson\", \"age\": 35, \"salary\": 5000, \"city\": \"London\"}\n",
        "keys = [\"name\", \"salary\"]\n",
        "Expected Output: {'name': 'Anderson', 'salary': 5000}"
      ],
      "metadata": {
        "collapsed": false,
        "id": "8429e1cc16640b30"
      }
    },
    {
      "cell_type": "code",
      "outputs": [
        {
          "output_type": "stream",
          "name": "stdout",
          "text": [
            "name:Anderson\n",
            "salary:5000\n"
          ]
        }
      ],
      "source": [
        "sample_dict = { \"name\": \"Anderson\", \"age\": 35, \"salary\": 5000, \"city\": \"London\"}\n",
        "\n",
        "print('name:' + sample_dict['name'])\n",
        "print('salary:' + str(sample_dict['salary']))"
      ],
      "metadata": {
        "ExecuteTime": {
          "end_time": "2024-03-01T01:46:19.427171Z",
          "start_time": "2024-03-01T01:46:19.422149Z"
        },
        "id": "4daa5acc2648ae58",
        "outputId": "2076d40a-6e24-4a2a-ca68-c8cd66f52aec",
        "colab": {
          "base_uri": "https://localhost:8080/"
        }
      },
      "execution_count": 6
    },
    {
      "cell_type": "markdown",
      "source": [
        "3. Write a Python program to convert two lists into a dictionary in a way that item from list_one is the key and item from list_two is the value.\n",
        "list_one = ['one', 'two', 'three']\n",
        "list_two = [1, 2, 3]\n",
        "Expected Output: {'one': 1, 'two': 2, 'three': 3}"
      ],
      "metadata": {
        "collapsed": false,
        "id": "95c9c9e18ce2c07"
      }
    },
    {
      "cell_type": "code",
      "outputs": [
        {
          "output_type": "stream",
          "name": "stdout",
          "text": [
            "{'one': 1, 'two': 2, 'three': 3}\n"
          ]
        }
      ],
      "source": [
        "list_one = ['one', 'two', 'three']\n",
        "list_two = [1, 2, 3]\n",
        "dict = {}\n",
        "for i in range(0, len(list_one)):\n",
        "    dict.update({list_one[i]: list_two[i]})\n",
        "\n",
        "print(dict)"
      ],
      "metadata": {
        "ExecuteTime": {
          "end_time": "2024-03-01T01:49:28.384799Z",
          "start_time": "2024-03-01T01:49:28.380934Z"
        },
        "id": "dff2cedc03911e88",
        "outputId": "d85305ca-199d-4df0-c692-717f0b4c8d9a",
        "colab": {
          "base_uri": "https://localhost:8080/"
        }
      },
      "execution_count": 7
    }
  ]
}